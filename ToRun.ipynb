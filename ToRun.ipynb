{
 "cells": [
  {
   "cell_type": "code",
   "execution_count": 12,
   "id": "b42accda",
   "metadata": {},
   "outputs": [
    {
     "name": "stdout",
     "output_type": "stream",
     "text": [
      "Looking in links: https://download.pytorch.org/whl/lts/1.8/torch_lts.html\r\n",
      "Requirement already satisfied: torch==1.8.1+cu111 in /home/navdeep/.local/lib/python3.8/site-packages (1.8.1+cu111)\r\n",
      "Requirement already satisfied: torchvision==0.9.1+cu111 in /home/navdeep/.local/lib/python3.8/site-packages (0.9.1+cu111)\r\n",
      "Requirement already satisfied: torchaudio===0.8.1 in /home/navdeep/.local/lib/python3.8/site-packages (0.8.1)\r\n",
      "Requirement already satisfied: typing-extensions in /home/navdeep/.local/lib/python3.8/site-packages (from torch==1.8.1+cu111) (4.1.1)\r\n",
      "Requirement already satisfied: numpy in /home/navdeep/.local/lib/python3.8/site-packages (from torch==1.8.1+cu111) (1.22.3)\r\n",
      "Requirement already satisfied: pillow>=4.1.1 in /home/navdeep/.local/lib/python3.8/site-packages (from torchvision==0.9.1+cu111) (9.1.1)\r\n"
     ]
    }
   ],
   "source": [
    "!pip install torch==1.8.1+cu111 torchvision==0.9.1+cu111 torchaudio===0.8.1 -f https://download.pytorch.org/whl/lts/1.8/torch_lts.html"
   ]
  },
  {
   "cell_type": "code",
   "execution_count": 13,
   "id": "08422003",
   "metadata": {},
   "outputs": [
    {
     "name": "stdout",
     "output_type": "stream",
     "text": [
      "/home/navdeep/Desktop/YOLO-Drowsiness-Detection/yolov5\n"
     ]
    }
   ],
   "source": [
    "%cd yolov5"
   ]
  },
  {
   "cell_type": "code",
   "execution_count": 14,
   "id": "7fb837ee",
   "metadata": {},
   "outputs": [
    {
     "name": "stdout",
     "output_type": "stream",
     "text": [
      "Requirement already satisfied: matplotlib>=3.2.2 in /home/navdeep/.local/lib/python3.8/site-packages (from -r requirements.txt (line 4)) (3.5.2)\n",
      "Requirement already satisfied: numpy>=1.18.5 in /home/navdeep/.local/lib/python3.8/site-packages (from -r requirements.txt (line 5)) (1.22.3)\n",
      "Requirement already satisfied: opencv-python>=4.1.1 in /home/navdeep/.local/lib/python3.8/site-packages (from -r requirements.txt (line 6)) (4.5.5.64)\n",
      "Requirement already satisfied: Pillow>=7.1.2 in /home/navdeep/.local/lib/python3.8/site-packages (from -r requirements.txt (line 7)) (9.1.1)\n",
      "Requirement already satisfied: PyYAML>=5.3.1 in /usr/lib/python3/dist-packages (from -r requirements.txt (line 8)) (5.3.1)\n",
      "Requirement already satisfied: requests>=2.23.0 in /home/navdeep/.local/lib/python3.8/site-packages (from -r requirements.txt (line 9)) (2.27.1)\n",
      "Requirement already satisfied: scipy>=1.4.1 in /home/navdeep/.local/lib/python3.8/site-packages (from -r requirements.txt (line 10)) (1.8.1)\n",
      "Requirement already satisfied: torch>=1.7.0 in /home/navdeep/.local/lib/python3.8/site-packages (from -r requirements.txt (line 11)) (1.8.1+cu111)\n",
      "Requirement already satisfied: torchvision>=0.8.1 in /home/navdeep/.local/lib/python3.8/site-packages (from -r requirements.txt (line 12)) (0.9.1+cu111)\n",
      "Requirement already satisfied: tqdm>=4.41.0 in /home/navdeep/.local/lib/python3.8/site-packages (from -r requirements.txt (line 13)) (4.64.0)\n",
      "Requirement already satisfied: tensorboard>=2.4.1 in /home/navdeep/.local/lib/python3.8/site-packages (from -r requirements.txt (line 16)) (2.8.0)\n",
      "Requirement already satisfied: pandas>=1.1.4 in /home/navdeep/.local/lib/python3.8/site-packages (from -r requirements.txt (line 20)) (1.4.2)\n",
      "Requirement already satisfied: seaborn>=0.11.0 in /home/navdeep/.local/lib/python3.8/site-packages (from -r requirements.txt (line 21)) (0.11.2)\n",
      "Requirement already satisfied: thop in /home/navdeep/.local/lib/python3.8/site-packages (from -r requirements.txt (line 37)) (0.0.31.post2005241907)\n",
      "Requirement already satisfied: cycler>=0.10 in /home/navdeep/.local/lib/python3.8/site-packages (from matplotlib>=3.2.2->-r requirements.txt (line 4)) (0.11.0)\n",
      "Requirement already satisfied: fonttools>=4.22.0 in /home/navdeep/.local/lib/python3.8/site-packages (from matplotlib>=3.2.2->-r requirements.txt (line 4)) (4.33.3)\n",
      "Requirement already satisfied: kiwisolver>=1.0.1 in /home/navdeep/.local/lib/python3.8/site-packages (from matplotlib>=3.2.2->-r requirements.txt (line 4)) (1.4.2)\n",
      "Requirement already satisfied: packaging>=20.0 in /home/navdeep/.local/lib/python3.8/site-packages (from matplotlib>=3.2.2->-r requirements.txt (line 4)) (21.3)\n",
      "Requirement already satisfied: pyparsing>=2.2.1 in /home/navdeep/.local/lib/python3.8/site-packages (from matplotlib>=3.2.2->-r requirements.txt (line 4)) (3.0.7)\n",
      "Requirement already satisfied: python-dateutil>=2.7 in /home/navdeep/.local/lib/python3.8/site-packages (from matplotlib>=3.2.2->-r requirements.txt (line 4)) (2.8.2)\n",
      "Requirement already satisfied: urllib3<1.27,>=1.21.1 in /usr/lib/python3/dist-packages (from requests>=2.23.0->-r requirements.txt (line 9)) (1.25.8)\n",
      "Requirement already satisfied: certifi>=2017.4.17 in /usr/lib/python3/dist-packages (from requests>=2.23.0->-r requirements.txt (line 9)) (2019.11.28)\n",
      "Requirement already satisfied: charset-normalizer~=2.0.0; python_version >= \"3\" in /home/navdeep/.local/lib/python3.8/site-packages (from requests>=2.23.0->-r requirements.txt (line 9)) (2.0.12)\n",
      "Requirement already satisfied: idna<4,>=2.5; python_version >= \"3\" in /usr/lib/python3/dist-packages (from requests>=2.23.0->-r requirements.txt (line 9)) (2.8)\n",
      "Requirement already satisfied: typing-extensions in /home/navdeep/.local/lib/python3.8/site-packages (from torch>=1.7.0->-r requirements.txt (line 11)) (4.1.1)\n",
      "Requirement already satisfied: absl-py>=0.4 in /home/navdeep/.local/lib/python3.8/site-packages (from tensorboard>=2.4.1->-r requirements.txt (line 16)) (1.0.0)\n",
      "Requirement already satisfied: grpcio>=1.24.3 in /home/navdeep/.local/lib/python3.8/site-packages (from tensorboard>=2.4.1->-r requirements.txt (line 16)) (1.44.0)\n",
      "Requirement already satisfied: google-auth<3,>=1.6.3 in /home/navdeep/.local/lib/python3.8/site-packages (from tensorboard>=2.4.1->-r requirements.txt (line 16)) (2.6.2)\n",
      "Requirement already satisfied: google-auth-oauthlib<0.5,>=0.4.1 in /home/navdeep/.local/lib/python3.8/site-packages (from tensorboard>=2.4.1->-r requirements.txt (line 16)) (0.4.6)\n",
      "Requirement already satisfied: markdown>=2.6.8 in /home/navdeep/.local/lib/python3.8/site-packages (from tensorboard>=2.4.1->-r requirements.txt (line 16)) (3.3.6)\n",
      "Requirement already satisfied: protobuf>=3.6.0 in /home/navdeep/.local/lib/python3.8/site-packages (from tensorboard>=2.4.1->-r requirements.txt (line 16)) (3.20.0)\n",
      "Requirement already satisfied: setuptools>=41.0.0 in /home/navdeep/.local/lib/python3.8/site-packages (from tensorboard>=2.4.1->-r requirements.txt (line 16)) (61.3.1)\n",
      "Requirement already satisfied: tensorboard-data-server<0.7.0,>=0.6.0 in /home/navdeep/.local/lib/python3.8/site-packages (from tensorboard>=2.4.1->-r requirements.txt (line 16)) (0.6.1)\n",
      "Requirement already satisfied: tensorboard-plugin-wit>=1.6.0 in /home/navdeep/.local/lib/python3.8/site-packages (from tensorboard>=2.4.1->-r requirements.txt (line 16)) (1.8.1)\n",
      "Requirement already satisfied: werkzeug>=0.11.15 in /home/navdeep/.local/lib/python3.8/site-packages (from tensorboard>=2.4.1->-r requirements.txt (line 16)) (2.1.1)\n",
      "Requirement already satisfied: wheel>=0.26 in /usr/lib/python3/dist-packages (from tensorboard>=2.4.1->-r requirements.txt (line 16)) (0.34.2)\n",
      "Requirement already satisfied: pytz>=2020.1 in /home/navdeep/.local/lib/python3.8/site-packages (from pandas>=1.1.4->-r requirements.txt (line 20)) (2022.1)\n",
      "Requirement already satisfied: six>=1.5 in /usr/lib/python3/dist-packages (from python-dateutil>=2.7->matplotlib>=3.2.2->-r requirements.txt (line 4)) (1.14.0)\n",
      "Requirement already satisfied: cachetools<6.0,>=2.0.0 in /home/navdeep/.local/lib/python3.8/site-packages (from google-auth<3,>=1.6.3->tensorboard>=2.4.1->-r requirements.txt (line 16)) (5.0.0)\n",
      "Requirement already satisfied: pyasn1-modules>=0.2.1 in /home/navdeep/.local/lib/python3.8/site-packages (from google-auth<3,>=1.6.3->tensorboard>=2.4.1->-r requirements.txt (line 16)) (0.2.8)\n",
      "Requirement already satisfied: rsa<5,>=3.1.4; python_version >= \"3.6\" in /home/navdeep/.local/lib/python3.8/site-packages (from google-auth<3,>=1.6.3->tensorboard>=2.4.1->-r requirements.txt (line 16)) (4.8)\n",
      "Requirement already satisfied: requests-oauthlib>=0.7.0 in /home/navdeep/.local/lib/python3.8/site-packages (from google-auth-oauthlib<0.5,>=0.4.1->tensorboard>=2.4.1->-r requirements.txt (line 16)) (1.3.1)\n",
      "Requirement already satisfied: importlib-metadata>=4.4; python_version < \"3.10\" in /home/navdeep/.local/lib/python3.8/site-packages (from markdown>=2.6.8->tensorboard>=2.4.1->-r requirements.txt (line 16)) (4.11.3)\n",
      "Requirement already satisfied: pyasn1<0.5.0,>=0.4.6 in /home/navdeep/.local/lib/python3.8/site-packages (from pyasn1-modules>=0.2.1->google-auth<3,>=1.6.3->tensorboard>=2.4.1->-r requirements.txt (line 16)) (0.4.8)\n",
      "Requirement already satisfied: oauthlib>=3.0.0 in /usr/lib/python3/dist-packages (from requests-oauthlib>=0.7.0->google-auth-oauthlib<0.5,>=0.4.1->tensorboard>=2.4.1->-r requirements.txt (line 16)) (3.1.0)\n",
      "Requirement already satisfied: zipp>=0.5 in /home/navdeep/.local/lib/python3.8/site-packages (from importlib-metadata>=4.4; python_version < \"3.10\"->markdown>=2.6.8->tensorboard>=2.4.1->-r requirements.txt (line 16)) (3.8.0)\n"
     ]
    }
   ],
   "source": [
    "!pip install -r requirements.txt"
   ]
  },
  {
   "cell_type": "code",
   "execution_count": 15,
   "id": "f10ffa2a",
   "metadata": {},
   "outputs": [
    {
     "name": "stdout",
     "output_type": "stream",
     "text": [
      "/home/navdeep/Desktop/YOLO-Drowsiness-Detection\n"
     ]
    }
   ],
   "source": [
    "%cd .."
   ]
  },
  {
   "cell_type": "code",
   "execution_count": 16,
   "id": "3aa1d39b",
   "metadata": {},
   "outputs": [],
   "source": [
    "import torch\n",
    "from matplotlib import pyplot as plt\n",
    "import numpy as np\n",
    "import cv2"
   ]
  },
  {
   "cell_type": "code",
   "execution_count": 17,
   "id": "cab0f59a",
   "metadata": {},
   "outputs": [],
   "source": [
    "import uuid   # Unique identifier\n",
    "import os\n",
    "import time"
   ]
  },
  {
   "cell_type": "code",
   "execution_count": 18,
   "id": "bca1d6fe",
   "metadata": {},
   "outputs": [
    {
     "data": {
      "text/plain": [
       "'/home/navdeep/Desktop/YOLO-Drowsiness-Detection'"
      ]
     },
     "execution_count": 18,
     "metadata": {},
     "output_type": "execute_result"
    }
   ],
   "source": [
    "%pwd"
   ]
  },
  {
   "cell_type": "code",
   "execution_count": 19,
   "id": "a0e86109",
   "metadata": {},
   "outputs": [
    {
     "name": "stdout",
     "output_type": "stream",
     "text": [
      "/home/navdeep/Desktop/YOLO-Drowsiness-Detection/labelImg\n"
     ]
    }
   ],
   "source": [
    "%cd labelImg"
   ]
  },
  {
   "cell_type": "code",
   "execution_count": 20,
   "id": "7298f416",
   "metadata": {},
   "outputs": [
    {
     "name": "stdout",
     "output_type": "stream",
     "text": [
      "[sudo] password for navdeep: \n",
      "[sudo] password for navdeep: \n",
      "pyrcc5 -o libs/resources.py resources.qrc\n"
     ]
    }
   ],
   "source": [
    "#!sudo apt-get install pyqt5-dev-tools\n",
    "#!sudo pip3 install -r requirements/requirements-linux-python3.txt\n",
    "#!make qt5py3\n",
    "#!python3 labelImg.py"
   ]
  },
  {
   "cell_type": "code",
   "execution_count": 23,
   "id": "5c521613",
   "metadata": {},
   "outputs": [
    {
     "name": "stdout",
     "output_type": "stream",
     "text": [
      "/home/navdeep/Desktop/YOLO-Drowsiness-Detection\n"
     ]
    }
   ],
   "source": [
    "%cd .."
   ]
  },
  {
   "cell_type": "code",
   "execution_count": 24,
   "id": "1d727d37",
   "metadata": {},
   "outputs": [
    {
     "name": "stderr",
     "output_type": "stream",
     "text": [
      "Downloading: \"https://github.com/ultralytics/yolov5/archive/master.zip\" to /home/navdeep/.cache/torch/hub/master.zip\n",
      "YOLOv5 🚀 2022-5-23 Python-3.8.10 torch-1.8.1+cu111 CUDA:0 (NVIDIA GeForce GTX 1650, 3903MiB)\n",
      "\n",
      "Fusing layers... \n",
      "Model summary: 213 layers, 7055974 parameters, 0 gradients, 15.9 GFLOPs\n",
      "Adding AutoShape... \n"
     ]
    }
   ],
   "source": [
    "model = torch.hub.load('ultralytics/yolov5', 'custom', path='yolov5/runs/train/exp7/weights/last.pt', force_reload=True)"
   ]
  },
  {
   "cell_type": "code",
   "execution_count": 25,
   "id": "93de198d",
   "metadata": {},
   "outputs": [],
   "source": [
    "cap = cv2.VideoCapture(0)\n",
    "while cap.isOpened():\n",
    "    ret, frame = cap.read()\n",
    "    \n",
    "    # Make detections \n",
    "    results = model(frame)\n",
    "    \n",
    "    cv2.imshow('YOLO', np.squeeze(results.render()))\n",
    "    \n",
    "    if cv2.waitKey(10) & 0xFF == ord('q'):\n",
    "        break\n",
    "cap.release()\n",
    "cv2.destroyAllWindows()"
   ]
  },
  {
   "cell_type": "code",
   "execution_count": null,
   "id": "c964803a",
   "metadata": {},
   "outputs": [],
   "source": []
  }
 ],
 "metadata": {
  "kernelspec": {
   "display_name": "Python 3 (ipykernel)",
   "language": "python",
   "name": "python3"
  },
  "language_info": {
   "codemirror_mode": {
    "name": "ipython",
    "version": 3
   },
   "file_extension": ".py",
   "mimetype": "text/x-python",
   "name": "python",
   "nbconvert_exporter": "python",
   "pygments_lexer": "ipython3",
   "version": "3.8.10"
  }
 },
 "nbformat": 4,
 "nbformat_minor": 5
}
